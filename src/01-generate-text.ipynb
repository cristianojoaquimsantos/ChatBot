{
 "cells": [
  {
   "cell_type": "code",
   "execution_count": 16,
   "id": "b92784d9",
   "metadata": {},
   "outputs": [],
   "source": [
    "import openai"
   ]
  },
  {
   "cell_type": "code",
   "execution_count": 17,
   "id": "baac26e3",
   "metadata": {},
   "outputs": [],
   "source": [
    "client = openai.Client()"
   ]
  },
  {
   "cell_type": "code",
   "execution_count": 18,
   "id": "dbaf999a",
   "metadata": {},
   "outputs": [],
   "source": [
    "mensagens = [{\"role\":\"user\",\"content\":\"Defina o que é uma laranja\"}]"
   ]
  },
  {
   "cell_type": "code",
   "execution_count": 19,
   "id": "0ed9c2bf",
   "metadata": {},
   "outputs": [],
   "source": [
    "resposta = client.chat.completions.create(\n",
    "    messages=mensagens,\n",
    "    model=\"gpt-3.5-turbo\",\n",
    "    max_tokens=1000,\n",
    "    temperature=0\n",
    ")"
   ]
  },
  {
   "cell_type": "code",
   "execution_count": 20,
   "id": "fe99ae2b",
   "metadata": {},
   "outputs": [
    {
     "data": {
      "text/plain": [
       "ChatCompletion(id='chatcmpl-BdTlyhuWte1fBrkuqUswzYcmlieVH', choices=[Choice(finish_reason='stop', index=0, logprobs=None, message=ChatCompletionMessage(content='A laranja é uma fruta cítrica de cor alaranjada, com polpa suculenta e sabor adocicado e ácido ao mesmo tempo. É uma excelente fonte de vitamina C e outros nutrientes essenciais para a saúde. A laranja é amplamente consumida in natura, em sucos, sobremesas e diversas receitas culinárias.', refusal=None, role='assistant', annotations=[], audio=None, function_call=None, tool_calls=None))], created=1748748938, model='gpt-3.5-turbo-0125', object='chat.completion', service_tier='default', system_fingerprint=None, usage=CompletionUsage(completion_tokens=89, prompt_tokens=16, total_tokens=105, completion_tokens_details=CompletionTokensDetails(accepted_prediction_tokens=0, audio_tokens=0, reasoning_tokens=0, rejected_prediction_tokens=0), prompt_tokens_details=PromptTokensDetails(audio_tokens=0, cached_tokens=0)))"
      ]
     },
     "execution_count": 20,
     "metadata": {},
     "output_type": "execute_result"
    }
   ],
   "source": [
    "resposta"
   ]
  },
  {
   "cell_type": "code",
   "execution_count": 21,
   "id": "876e90a5",
   "metadata": {},
   "outputs": [
    {
     "data": {
      "text/plain": [
       "'A laranja é uma fruta cítrica de cor alaranjada, com polpa suculenta e sabor adocicado e ácido ao mesmo tempo. É uma excelente fonte de vitamina C e outros nutrientes essenciais para a saúde. A laranja é amplamente consumida in natura, em sucos, sobremesas e diversas receitas culinárias.'"
      ]
     },
     "execution_count": 21,
     "metadata": {},
     "output_type": "execute_result"
    }
   ],
   "source": [
    "resposta.choices[0].message.content"
   ]
  },
  {
   "cell_type": "code",
   "execution_count": 22,
   "id": "d9615af6",
   "metadata": {},
   "outputs": [],
   "source": [
    "mensagens = [{\"role\":\"assistant\", \"content\":resposta.choices[0].message.content}]"
   ]
  },
  {
   "cell_type": "code",
   "execution_count": 23,
   "id": "4c5d0cae",
   "metadata": {},
   "outputs": [
    {
     "data": {
      "text/plain": [
       "[{'role': 'assistant',\n",
       "  'content': 'A laranja é uma fruta cítrica de cor alaranjada, com polpa suculenta e sabor adocicado e ácido ao mesmo tempo. É uma excelente fonte de vitamina C e outros nutrientes essenciais para a saúde. A laranja é amplamente consumida in natura, em sucos, sobremesas e diversas receitas culinárias.'}]"
      ]
     },
     "execution_count": 23,
     "metadata": {},
     "output_type": "execute_result"
    }
   ],
   "source": [
    "mensagens"
   ]
  },
  {
   "cell_type": "code",
   "execution_count": 24,
   "id": "7d5a9f99",
   "metadata": {},
   "outputs": [],
   "source": [
    "mensagens.append({\"role\":\"user\",\"content\":\"E qual a sua cor\"})"
   ]
  },
  {
   "cell_type": "code",
   "execution_count": 25,
   "id": "dac797ea",
   "metadata": {},
   "outputs": [],
   "source": [
    "resposta = client.chat.completions.create(\n",
    "    messages=mensagens,\n",
    "    model=\"gpt-3.5-turbo\",\n",
    "    max_tokens=1000,\n",
    "    temperature=0\n",
    ")"
   ]
  },
  {
   "cell_type": "code",
   "execution_count": 26,
   "id": "014acbc0",
   "metadata": {},
   "outputs": [
    {
     "data": {
      "text/plain": [
       "'A cor da laranja é alaranjada, como o próprio nome sugere. Ela possui uma casca externa de cor laranja brilhante e uma polpa interna também alaranjada, que varia em tonalidades dependendo da variedade da fruta. A cor vibrante da laranja é uma característica marcante e facilmente reconhecível.'"
      ]
     },
     "execution_count": 26,
     "metadata": {},
     "output_type": "execute_result"
    }
   ],
   "source": [
    "resposta.choices[0].message.content"
   ]
  },
  {
   "cell_type": "code",
   "execution_count": 27,
   "id": "5dba4822",
   "metadata": {},
   "outputs": [],
   "source": [
    "mensagens = [{\"role\":\"assistant\", \"content\":resposta.choices[0].message.content}]"
   ]
  },
  {
   "cell_type": "code",
   "execution_count": 28,
   "id": "ead99d36",
   "metadata": {},
   "outputs": [
    {
     "data": {
      "text/plain": [
       "[{'role': 'assistant',\n",
       "  'content': 'A cor da laranja é alaranjada, como o próprio nome sugere. Ela possui uma casca externa de cor laranja brilhante e uma polpa interna também alaranjada, que varia em tonalidades dependendo da variedade da fruta. A cor vibrante da laranja é uma característica marcante e facilmente reconhecível.'}]"
      ]
     },
     "execution_count": 28,
     "metadata": {},
     "output_type": "execute_result"
    }
   ],
   "source": [
    "mensagens"
   ]
  },
  {
   "cell_type": "markdown",
   "id": "00cc1b22",
   "metadata": {},
   "source": [
    "Utilizando Função"
   ]
  },
  {
   "cell_type": "code",
   "execution_count": 29,
   "id": "6e8c6a85",
   "metadata": {},
   "outputs": [],
   "source": [
    "def geracao_texto(mensagens, modelo=\"gpt-3.5-turbo\",tokens=1000,temperatura=0):\n",
    "    resposta = client.chat.completions.create(\n",
    "        messages=mensagens,\n",
    "        model=modelo,\n",
    "        max_tokens=tokens,\n",
    "        temperature=temperatura\n",
    "    )\n",
    "\n",
    "    mensagens.append({\"role\":\"assistant\",\"content\":resposta.choices[0].message.content})\n",
    "    return mensagens"
   ]
  },
  {
   "cell_type": "code",
   "execution_count": 35,
   "id": "e8870d95",
   "metadata": {},
   "outputs": [],
   "source": [
    "mensagem1 = [{\"role\":\"user\",\"content\":\"Defina o que é API em 5 palavras\"}]\n",
    "mensagens = geracao_texto(mensagem1)"
   ]
  },
  {
   "cell_type": "code",
   "execution_count": 36,
   "id": "819a5121",
   "metadata": {},
   "outputs": [
    {
     "data": {
      "text/plain": [
       "[{'role': 'user', 'content': 'Defina o que é API em 5 palavras'},\n",
       " {'role': 'assistant', 'content': 'Interface de programação de aplicativos.'}]"
      ]
     },
     "execution_count": 36,
     "metadata": {},
     "output_type": "execute_result"
    }
   ],
   "source": [
    "mensagens"
   ]
  },
  {
   "cell_type": "markdown",
   "id": "42e63d73",
   "metadata": {},
   "source": [
    "Utilizando Stream"
   ]
  },
  {
   "cell_type": "code",
   "execution_count": 38,
   "id": "3b8290ae",
   "metadata": {},
   "outputs": [],
   "source": [
    "def geracao_texto_stream(mensagens, \n",
    "                         modelo=\"gpt-3.5-turbo\",\n",
    "                         tokens=1000,\n",
    "                         temperatura=0,\n",
    "                         stream=True): \n",
    "    resposta = client.chat.completions.create(\n",
    "        messages=mensagens,\n",
    "        model=modelo,\n",
    "        max_tokens=tokens,\n",
    "        temperature=temperatura,\n",
    "        stream=stream\n",
    "    )\n",
    "\n",
    "    for resposta_stream in resposta:\n",
    "        texto = resposta_stream.choices[0].delta.content\n",
    "\n",
    "        if texto:\n",
    "            print(texto, end='')\n",
    "\n",
    "    return texto\n"
   ]
  },
  {
   "cell_type": "code",
   "execution_count": 39,
   "id": "628045b2",
   "metadata": {},
   "outputs": [
    {
     "name": "stdout",
     "output_type": "stream",
     "text": [
      "Havia uma vez um jovem chamado Lucas que sonhava em se tornar um grande advogado. Ele estudou arduamente durante anos e finalmente conseguiu ser aprovado no exame da Ordem dos Advogados do Brasil.\n",
      "\n",
      "Lucas decidiu então se especializar em Direito Empresarial e se matriculou em um renomado curso de LLM (Master of Laws) em uma universidade de prestígio. Durante o curso, ele se destacou pela sua dedicação e inteligência, sendo elogiado pelos professores e colegas.\n",
      "\n",
      "Um dia, durante uma aula sobre contratos comerciais, o professor propôs um desafio: analisar um caso complexo e apresentar uma solução em um prazo curto. Lucas mergulhou de cabeça no estudo do caso e, com sua habilidade analítica e conhecimento jurídico, conseguiu encontrar uma solução brilhante.\n",
      "\n",
      "Impressionado com o desempenho de Lucas, o professor o indicou para um estágio em um renomado escritório de advocacia especializado em Direito Empresarial. Lucas se destacou mais uma vez, conquistando a confiança dos sócios e sendo contratado como advogado associado após a conclusão do LLM.\n",
      "\n",
      "Com o passar dos anos, Lucas se tornou um dos advogados mais respeitados na área de Direito Empresarial, acumulando vitórias em casos importantes e conquistando a admiração de seus clientes e colegas. Seu LLM foi o ponto de partida para uma carreira de sucesso e realização profissional.\n",
      "\n",
      "E assim, Lucas provou que com determinação, dedicação e conhecimento, é possível alcançar os mais altos patamares na advocacia. O LLM não foi apenas um título, mas sim uma porta de entrada para um futuro brilhante e promissor."
     ]
    }
   ],
   "source": [
    "mensagem2 = [{\"role\":\"user\",\"content\":\"Conte uma história sobre LLM\"}]\n",
    "mensagens = geracao_texto_stream(mensagem2)"
   ]
  }
 ],
 "metadata": {
  "kernelspec": {
   "display_name": ".venv",
   "language": "python",
   "name": "python3"
  },
  "language_info": {
   "codemirror_mode": {
    "name": "ipython",
    "version": 3
   },
   "file_extension": ".py",
   "mimetype": "text/x-python",
   "name": "python",
   "nbconvert_exporter": "python",
   "pygments_lexer": "ipython3",
   "version": "3.13.3"
  }
 },
 "nbformat": 4,
 "nbformat_minor": 5
}
