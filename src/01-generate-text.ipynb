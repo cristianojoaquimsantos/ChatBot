{
 "cells": [
  {
   "cell_type": "code",
   "execution_count": 1,
   "id": "b92784d9",
   "metadata": {},
   "outputs": [],
   "source": [
    "import openai"
   ]
  },
  {
   "cell_type": "code",
   "execution_count": 2,
   "id": "baac26e3",
   "metadata": {},
   "outputs": [],
   "source": [
    "client = openai.Client()"
   ]
  },
  {
   "cell_type": "code",
   "execution_count": 3,
   "id": "dbaf999a",
   "metadata": {},
   "outputs": [],
   "source": [
    "mensagens = [{\"role\":\"user\",\"content\":\"Defina o que é uma laranja\"}]"
   ]
  },
  {
   "cell_type": "code",
   "execution_count": 4,
   "id": "0ed9c2bf",
   "metadata": {},
   "outputs": [],
   "source": [
    "resposta = client.chat.completions.create(\n",
    "    messages=mensagens,\n",
    "    model=\"gpt-3.5-turbo\",\n",
    "    max_tokens=1000,\n",
    "    temperature=0\n",
    ")"
   ]
  },
  {
   "cell_type": "code",
   "execution_count": 5,
   "id": "fe99ae2b",
   "metadata": {},
   "outputs": [
    {
     "data": {
      "text/plain": [
       "ChatCompletion(id='chatcmpl-BiZrvZILda4KYnmZ8XD0p0igcuLkc', choices=[Choice(finish_reason='stop', index=0, logprobs=None, message=ChatCompletionMessage(content='A laranja é uma fruta cítrica de cor alaranjada, com polpa suculenta e sabor doce e ácido ao mesmo tempo. É uma excelente fonte de vitamina C e outros nutrientes essenciais para a saúde. A laranja é amplamente consumida in natura, em sucos, sobremesas e diversas receitas culinárias.', refusal=None, role='assistant', annotations=[], audio=None, function_call=None, tool_calls=None))], created=1749964011, model='gpt-3.5-turbo-0125', object='chat.completion', service_tier='default', system_fingerprint=None, usage=CompletionUsage(completion_tokens=87, prompt_tokens=16, total_tokens=103, completion_tokens_details=CompletionTokensDetails(accepted_prediction_tokens=0, audio_tokens=0, reasoning_tokens=0, rejected_prediction_tokens=0), prompt_tokens_details=PromptTokensDetails(audio_tokens=0, cached_tokens=0)))"
      ]
     },
     "execution_count": 5,
     "metadata": {},
     "output_type": "execute_result"
    }
   ],
   "source": [
    "resposta"
   ]
  },
  {
   "cell_type": "code",
   "execution_count": 6,
   "id": "876e90a5",
   "metadata": {},
   "outputs": [
    {
     "data": {
      "text/plain": [
       "'A laranja é uma fruta cítrica de cor alaranjada, com polpa suculenta e sabor doce e ácido ao mesmo tempo. É uma excelente fonte de vitamina C e outros nutrientes essenciais para a saúde. A laranja é amplamente consumida in natura, em sucos, sobremesas e diversas receitas culinárias.'"
      ]
     },
     "execution_count": 6,
     "metadata": {},
     "output_type": "execute_result"
    }
   ],
   "source": [
    "resposta.choices[0].message.content"
   ]
  },
  {
   "cell_type": "code",
   "execution_count": 7,
   "id": "d9615af6",
   "metadata": {},
   "outputs": [],
   "source": [
    "mensagens = [{\"role\":\"assistant\", \"content\":resposta.choices[0].message.content}]"
   ]
  },
  {
   "cell_type": "code",
   "execution_count": 8,
   "id": "4c5d0cae",
   "metadata": {},
   "outputs": [
    {
     "data": {
      "text/plain": [
       "[{'role': 'assistant',\n",
       "  'content': 'A laranja é uma fruta cítrica de cor alaranjada, com polpa suculenta e sabor doce e ácido ao mesmo tempo. É uma excelente fonte de vitamina C e outros nutrientes essenciais para a saúde. A laranja é amplamente consumida in natura, em sucos, sobremesas e diversas receitas culinárias.'}]"
      ]
     },
     "execution_count": 8,
     "metadata": {},
     "output_type": "execute_result"
    }
   ],
   "source": [
    "mensagens"
   ]
  },
  {
   "cell_type": "code",
   "execution_count": 9,
   "id": "7d5a9f99",
   "metadata": {},
   "outputs": [],
   "source": [
    "mensagens.append({\"role\":\"user\",\"content\":\"E qual a sua cor\"})"
   ]
  },
  {
   "cell_type": "code",
   "execution_count": 10,
   "id": "dac797ea",
   "metadata": {},
   "outputs": [],
   "source": [
    "resposta = client.chat.completions.create(\n",
    "    messages=mensagens,\n",
    "    model=\"gpt-3.5-turbo\",\n",
    "    max_tokens=1000,\n",
    "    temperature=0\n",
    ")"
   ]
  },
  {
   "cell_type": "code",
   "execution_count": 11,
   "id": "014acbc0",
   "metadata": {},
   "outputs": [
    {
     "data": {
      "text/plain": [
       "'A cor da laranja é alaranjada, como o próprio nome sugere. Ela possui uma casca externa de cor laranja brilhante e uma polpa interna também alaranjada, que varia em tonalidades dependendo da variedade da fruta. A cor vibrante da laranja é uma característica marcante e facilmente reconhecível.'"
      ]
     },
     "execution_count": 11,
     "metadata": {},
     "output_type": "execute_result"
    }
   ],
   "source": [
    "resposta.choices[0].message.content"
   ]
  },
  {
   "cell_type": "code",
   "execution_count": 12,
   "id": "5dba4822",
   "metadata": {},
   "outputs": [],
   "source": [
    "mensagens = [{\"role\":\"assistant\", \"content\":resposta.choices[0].message.content}]"
   ]
  },
  {
   "cell_type": "code",
   "execution_count": 13,
   "id": "ead99d36",
   "metadata": {},
   "outputs": [
    {
     "data": {
      "text/plain": [
       "[{'role': 'assistant',\n",
       "  'content': 'A cor da laranja é alaranjada, como o próprio nome sugere. Ela possui uma casca externa de cor laranja brilhante e uma polpa interna também alaranjada, que varia em tonalidades dependendo da variedade da fruta. A cor vibrante da laranja é uma característica marcante e facilmente reconhecível.'}]"
      ]
     },
     "execution_count": 13,
     "metadata": {},
     "output_type": "execute_result"
    }
   ],
   "source": [
    "mensagens"
   ]
  },
  {
   "cell_type": "markdown",
   "id": "00cc1b22",
   "metadata": {},
   "source": [
    "Utilizando Função"
   ]
  },
  {
   "cell_type": "code",
   "execution_count": 14,
   "id": "6e8c6a85",
   "metadata": {},
   "outputs": [],
   "source": [
    "def geracao_texto(mensagens, modelo=\"gpt-3.5-turbo\",tokens=1000,temperatura=0):\n",
    "    resposta = client.chat.completions.create(\n",
    "        messages=mensagens,\n",
    "        model=modelo,\n",
    "        max_tokens=tokens,\n",
    "        temperature=temperatura\n",
    "    )\n",
    "\n",
    "    mensagens.append({\"role\":\"assistant\",\"content\":resposta.choices[0].message.content})\n",
    "    return mensagens"
   ]
  },
  {
   "cell_type": "code",
   "execution_count": 15,
   "id": "e8870d95",
   "metadata": {},
   "outputs": [],
   "source": [
    "mensagem1 = [{\"role\":\"user\",\"content\":\"Defina o que é API em 5 palavras\"}]\n",
    "mensagens = geracao_texto(mensagem1)"
   ]
  },
  {
   "cell_type": "code",
   "execution_count": 16,
   "id": "819a5121",
   "metadata": {},
   "outputs": [
    {
     "data": {
      "text/plain": [
       "[{'role': 'user', 'content': 'Defina o que é API em 5 palavras'},\n",
       " {'role': 'assistant', 'content': 'Interface de programação de aplicativos.'}]"
      ]
     },
     "execution_count": 16,
     "metadata": {},
     "output_type": "execute_result"
    }
   ],
   "source": [
    "mensagens"
   ]
  },
  {
   "cell_type": "markdown",
   "id": "42e63d73",
   "metadata": {},
   "source": [
    "Utilizando Stream"
   ]
  },
  {
   "cell_type": "code",
   "execution_count": 17,
   "id": "3b8290ae",
   "metadata": {},
   "outputs": [],
   "source": [
    "def geracao_texto_stream(mensagens, \n",
    "                         modelo=\"gpt-3.5-turbo\",\n",
    "                         tokens=1000,\n",
    "                         temperatura=0,\n",
    "                         stream=True): \n",
    "    resposta = client.chat.completions.create(\n",
    "        messages=mensagens,\n",
    "        model=modelo,\n",
    "        max_tokens=tokens,\n",
    "        temperature=temperatura,\n",
    "        stream=stream\n",
    "    )\n",
    "\n",
    "    for resposta_stream in resposta:\n",
    "        texto = resposta_stream.choices[0].delta.content\n",
    "\n",
    "        if texto:\n",
    "            print(texto, end='')\n",
    "\n",
    "    return texto\n"
   ]
  },
  {
   "cell_type": "code",
   "execution_count": 18,
   "id": "628045b2",
   "metadata": {},
   "outputs": [
    {
     "name": "stdout",
     "output_type": "stream",
     "text": [
      "LLM era um jovem talentoso que sempre se destacou pela sua inteligência e dedicação aos estudos. Desde pequeno, ele sonhava em se tornar um advogado renomado e ajudar a fazer justiça no mundo.\n",
      "\n",
      "Ao ingressar na faculdade de Direito, LLM se destacou ainda mais, sendo reconhecido como um dos melhores alunos de sua turma. Ele se dedicava integralmente aos estudos, participava de grupos de estudo e sempre buscava se aprimorar cada vez mais.\n",
      "\n",
      "Após se formar, LLM foi aprovado no exame da Ordem dos Advogados e começou a trabalhar em um renomado escritório de advocacia. Sua reputação como advogado competente e ético logo se espalhou, e ele passou a ser procurado por clientes de todo o país.\n",
      "\n",
      "LLM se tornou conhecido por sua habilidade em resolver casos difíceis e sua capacidade de encontrar soluções justas para os problemas de seus clientes. Ele sempre buscava a verdade e a justiça em suas ações, e isso fez com que ele ganhasse o respeito e a admiração de todos ao seu redor.\n",
      "\n",
      "Com o passar dos anos, LLM se tornou um dos advogados mais respeitados do país, sendo reconhecido por sua ética, competência e dedicação à profissão. Ele continuou a lutar pelos direitos dos mais vulneráveis e a fazer a diferença na vida das pessoas que precisavam de ajuda.\n",
      "\n",
      "LLM se tornou um exemplo a ser seguido por todos que o conheciam, mostrando que é possível ser bem-sucedido sem abrir mão de seus valores e princípios. Sua história inspirou muitos jovens a seguirem seus passos e acreditarem no poder da justiça e da honestidade."
     ]
    }
   ],
   "source": [
    "mensagem2 = [{\"role\":\"user\",\"content\":\"Conte uma história sobre LLM\"}]\n",
    "mensagens = geracao_texto_stream(mensagem2)"
   ]
  }
 ],
 "metadata": {
  "kernelspec": {
   "display_name": ".venv",
   "language": "python",
   "name": "python3"
  },
  "language_info": {
   "codemirror_mode": {
    "name": "ipython",
    "version": 3
   },
   "file_extension": ".py",
   "mimetype": "text/x-python",
   "name": "python",
   "nbconvert_exporter": "python",
   "pygments_lexer": "ipython3",
   "version": "3.13.3"
  }
 },
 "nbformat": 4,
 "nbformat_minor": 5
}
