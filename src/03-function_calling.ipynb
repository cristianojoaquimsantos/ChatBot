{
 "cells": [
  {
   "cell_type": "code",
   "id": "74928527",
   "metadata": {
    "ExecuteTime": {
     "end_time": "2025-06-17T15:14:48.221574Z",
     "start_time": "2025-06-17T15:14:48.214472Z"
    }
   },
   "source": [
    "import json\n",
    "import openai\n",
    "import os\n",
    "from dotenv import load_dotenv\n",
    "from colorama import Fore, Style, init\n",
    "\n",
    "load_dotenv()"
   ],
   "outputs": [
    {
     "data": {
      "text/plain": [
       "True"
      ]
     },
     "execution_count": 11,
     "metadata": {},
     "output_type": "execute_result"
    }
   ],
   "execution_count": 11
  },
  {
   "cell_type": "code",
   "id": "1292618f",
   "metadata": {
    "ExecuteTime": {
     "end_time": "2025-06-17T15:14:52.692424Z",
     "start_time": "2025-06-17T15:14:52.619634Z"
    }
   },
   "source": [
    "client = openai.Client(api_key=os.getenv(\"OPENAI_API_KEY\"))\n",
    "\n",
    "init(autoreset=True)"
   ],
   "outputs": [],
   "execution_count": 12
  },
  {
   "cell_type": "code",
   "id": "51500837",
   "metadata": {
    "ExecuteTime": {
     "end_time": "2025-06-17T15:15:12.597739Z",
     "start_time": "2025-06-17T15:15:12.595191Z"
    }
   },
   "source": [
    "def saudacao_por_periodo(horas):\n",
    "    if 5 <= horas < 12:\n",
    "        return json.dumps({\"saudacao\": \"Bom dia!\"})\n",
    "    elif 12 <= horas < 18:\n",
    "        return json.dumps({\"saudacao\": \"Boa tarde!\"})\n",
    "    elif 18 <= horas < 22:\n",
    "        return json.dumps({\"saudacao\": \"Boa noite!\"})\n",
    "    else:\n",
    "        return json.dumps({\"saudacao\": \"Boa madrugada!\"})"
   ],
   "outputs": [],
   "execution_count": 13
  },
  {
   "cell_type": "code",
   "id": "9cf280ef",
   "metadata": {
    "ExecuteTime": {
     "end_time": "2025-06-17T15:15:14.555674Z",
     "start_time": "2025-06-17T15:15:14.553213Z"
    }
   },
   "source": [
    "tools = [\n",
    "    {\n",
    "        \"type\": \"function\",\n",
    "        \"function\": {\n",
    "            \"name\": \"saudacao_por_periodo\",\n",
    "            \"description\": \"Retorna uma saudação baseada no período do dia.\",\n",
    "            \"parameters\": {\n",
    "                \"type\": \"object\",\n",
    "                \"properties\": {\n",
    "                    \"horas\": {\n",
    "                        \"type\": \"integer\",\n",
    "                        \"description\": \"Hora atual em formato 24 horas (0-23).\"\n",
    "                    },\n",
    "                },\n",
    "                \"required\": [\"horas\"]\n",
    "            }\n",
    "        }\n",
    "    }\n",
    "]"
   ],
   "outputs": [],
   "execution_count": 14
  },
  {
   "cell_type": "code",
   "id": "c8c598ad",
   "metadata": {
    "ExecuteTime": {
     "end_time": "2025-06-17T15:16:05.786779Z",
     "start_time": "2025-06-17T15:16:05.784447Z"
    }
   },
   "source": [
    "funcao_disponivel = {\n",
    "    \"saudacao_por_periodo\": saudacao_por_periodo   \n",
    "}"
   ],
   "outputs": [],
   "execution_count": 23
  },
  {
   "cell_type": "code",
   "id": "94251288",
   "metadata": {
    "ExecuteTime": {
     "end_time": "2025-06-17T15:16:45.268946Z",
     "start_time": "2025-06-17T15:16:45.266459Z"
    }
   },
   "source": "mensagens = [{\"role\": \"user\", \"content\": \"Qual saudação o modelo me dá se for 10h?\"}]",
   "outputs": [],
   "execution_count": 32
  },
  {
   "cell_type": "code",
   "id": "efbe1ac5",
   "metadata": {
    "ExecuteTime": {
     "end_time": "2025-06-17T15:16:48.262909Z",
     "start_time": "2025-06-17T15:16:47.145204Z"
    }
   },
   "source": [
    "resposta = client.chat.completions.create(\n",
    "    model=\"gpt-3.5-turbo-0125\",\n",
    "    messages=mensagens,\n",
    "    tools=tools,\n",
    "    tool_choice=\"auto\"\n",
    ")"
   ],
   "outputs": [],
   "execution_count": 33
  },
  {
   "cell_type": "code",
   "id": "5292b8fd",
   "metadata": {
    "ExecuteTime": {
     "end_time": "2025-06-17T15:16:51.707032Z",
     "start_time": "2025-06-17T15:16:51.704251Z"
    }
   },
   "source": [
    "mensagem_resp = resposta.choices[0].message\n",
    "mensagem_resp"
   ],
   "outputs": [
    {
     "data": {
      "text/plain": [
       "ChatCompletionMessage(content=None, refusal=None, role='assistant', annotations=[], audio=None, function_call=None, tool_calls=[ChatCompletionMessageToolCall(id='call_oVYXCCQol7kBuAjAppMvl9RP', function=Function(arguments='{\"horas\":10}', name='saudacao_por_periodo'), type='function')])"
      ]
     },
     "execution_count": 34,
     "metadata": {},
     "output_type": "execute_result"
    }
   ],
   "execution_count": 34
  },
  {
   "cell_type": "code",
   "id": "abf5494e",
   "metadata": {
    "ExecuteTime": {
     "end_time": "2025-06-17T15:16:53.147396Z",
     "start_time": "2025-06-17T15:16:53.144140Z"
    }
   },
   "source": [
    "tool_calls = mensagem_resp.tool_calls\n",
    "tool_calls"
   ],
   "outputs": [
    {
     "data": {
      "text/plain": [
       "[ChatCompletionMessageToolCall(id='call_oVYXCCQol7kBuAjAppMvl9RP', function=Function(arguments='{\"horas\":10}', name='saudacao_por_periodo'), type='function')]"
      ]
     },
     "execution_count": 35,
     "metadata": {},
     "output_type": "execute_result"
    }
   ],
   "execution_count": 35
  },
  {
   "cell_type": "code",
   "id": "9766069d",
   "metadata": {
    "ExecuteTime": {
     "end_time": "2025-06-17T15:16:56.354980Z",
     "start_time": "2025-06-17T15:16:54.933545Z"
    }
   },
   "source": [
    "if tool_calls:\n",
    "    mensagens.append(mensagem_resp)\n",
    "\n",
    "    for tool_call in tool_calls:\n",
    "        function_name = tool_call.function.name\n",
    "        function_to_call = funcao_disponivel[function_name]\n",
    "        function_args = json.loads(tool_call.function.arguments)\n",
    "        function_response = function_to_call(\n",
    "            horas = function_args.get(\"horas\")\n",
    "        )\n",
    "\n",
    "        mensagens.append(\n",
    "            {\n",
    "               \"tool_call_id\": tool_call.id,\n",
    "               \"role\": \"tool\",\n",
    "               \"name\": function_name,\n",
    "               \"content\": function_response\n",
    "            }\n",
    "       )\n",
    "\n",
    "    \n",
    "    segunda_resposta = client.chat.completions.create(\n",
    "        model=\"gpt-3.5-turbo-0125\",\n",
    "        messages = mensagens\n",
    "    )"
   ],
   "outputs": [],
   "execution_count": 36
  },
  {
   "cell_type": "code",
   "id": "e04fe5c2",
   "metadata": {
    "ExecuteTime": {
     "end_time": "2025-06-17T15:16:59.568237Z",
     "start_time": "2025-06-17T15:16:59.564988Z"
    }
   },
   "source": [
    "mensagem_resposta = segunda_resposta.choices[0].message\n",
    "mensagem_resposta"
   ],
   "outputs": [
    {
     "data": {
      "text/plain": [
       "ChatCompletionMessage(content='Se forem 10h, o modelo me dará a saudação \"Bom dia!\".', refusal=None, role='assistant', annotations=[], audio=None, function_call=None, tool_calls=None)"
      ]
     },
     "execution_count": 37,
     "metadata": {},
     "output_type": "execute_result"
    }
   ],
   "execution_count": 37
  }
 ],
 "metadata": {
  "kernelspec": {
   "display_name": ".venv",
   "language": "python",
   "name": "python3"
  },
  "language_info": {
   "codemirror_mode": {
    "name": "ipython",
    "version": 3
   },
   "file_extension": ".py",
   "mimetype": "text/x-python",
   "name": "python",
   "nbconvert_exporter": "python",
   "pygments_lexer": "ipython3",
   "version": "3.13.3"
  }
 },
 "nbformat": 4,
 "nbformat_minor": 5
}
