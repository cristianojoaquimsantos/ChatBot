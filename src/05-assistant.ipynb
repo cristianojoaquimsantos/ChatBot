{
 "cells": [
  {
   "cell_type": "code",
   "execution_count": 6,
   "id": "f90ffb32",
   "metadata": {},
   "outputs": [
    {
     "data": {
      "text/plain": [
       "True"
      ]
     },
     "execution_count": 6,
     "metadata": {},
     "output_type": "execute_result"
    }
   ],
   "source": [
    "import openai\n",
    "import os\n",
    "from dotenv import load_dotenv\n",
    "\n",
    "load_dotenv()"
   ]
  },
  {
   "cell_type": "code",
   "execution_count": 7,
   "id": "de1a7308",
   "metadata": {},
   "outputs": [],
   "source": [
    "client = openai.Client(api_key=os.getenv(\"OPENAI_API_KEY\"))"
   ]
  },
  {
   "cell_type": "code",
   "execution_count": 10,
   "id": "d7d66ca0",
   "metadata": {},
   "outputs": [],
   "source": [
    "assistant = client.beta.assistants.create(\n",
    "    name = \"Tutor de Tecnologia\",\n",
    "    instructions = \"Você é um tutor sobre assuntos relacionados a tecnologia.\",\n",
    "    tools= [{\"type\": \"code_interpreter\"}],\n",
    "    model = \"gpt-3.5-turbo-0125\"\n",
    ")"
   ]
  },
  {
   "cell_type": "code",
   "execution_count": 11,
   "id": "caa48b52",
   "metadata": {},
   "outputs": [],
   "source": [
    "pergunta = \"\"\"\"\n",
    "Em um sistema de cache com mapeamento direto, dado uma memória principal \n",
    "de uma cache de 256 kb e blocos de 64 Bytes:\n",
    "- Quantas linhas existem na cache?\n",
    "- Onde o bloco de endreço 0x1A23C será mepado na cache?\n",
    "\"\"\""
   ]
  },
  {
   "cell_type": "code",
   "execution_count": 13,
   "id": "5447ac77",
   "metadata": {},
   "outputs": [
    {
     "name": "stderr",
     "output_type": "stream",
     "text": [
      "/var/folders/gq/3vbww1bj7x9dpmp6zy8llslw0000gn/T/ipykernel_43732/3685932091.py:1: DeprecationWarning: The Assistants API is deprecated in favor of the Responses API\n",
      "  thread = client.beta.threads.create()\n",
      "/var/folders/gq/3vbww1bj7x9dpmp6zy8llslw0000gn/T/ipykernel_43732/3685932091.py:2: DeprecationWarning: The Assistants API is deprecated in favor of the Responses API\n",
      "  message = client.beta.threads.messages.create(\n"
     ]
    }
   ],
   "source": [
    "thread = client.beta.threads.create()\n",
    "message = client.beta.threads.messages.create(\n",
    "    thread_id = thread.id,\n",
    "    role = \"user\",\n",
    "    content = pergunta\n",
    ")"
   ]
  },
  {
   "cell_type": "code",
   "execution_count": 14,
   "id": "0033f28d",
   "metadata": {},
   "outputs": [
    {
     "name": "stderr",
     "output_type": "stream",
     "text": [
      "/var/folders/gq/3vbww1bj7x9dpmp6zy8llslw0000gn/T/ipykernel_43732/1703593232.py:2: DeprecationWarning: The Assistants API is deprecated in favor of the Responses API\n",
      "  run = client.beta.threads.runs.create(\n"
     ]
    }
   ],
   "source": [
    "# Executa a Trhead\n",
    "run = client.beta.threads.runs.create(\n",
    "    thread_id = thread.id,\n",
    "    assistant_id = assistant.id,\n",
    "    instructions= \"Nome e usuário premium\"\n",
    ")"
   ]
  },
  {
   "cell_type": "code",
   "execution_count": 16,
   "id": "43cb0857",
   "metadata": {},
   "outputs": [
    {
     "data": {
      "text/plain": [
       "'queued'"
      ]
     },
     "execution_count": 16,
     "metadata": {},
     "output_type": "execute_result"
    }
   ],
   "source": [
    "run.status"
   ]
  },
  {
   "cell_type": "code",
   "execution_count": 17,
   "id": "df63c2eb",
   "metadata": {},
   "outputs": [
    {
     "name": "stderr",
     "output_type": "stream",
     "text": [
      "/var/folders/gq/3vbww1bj7x9dpmp6zy8llslw0000gn/T/ipykernel_43732/3925348386.py:7: DeprecationWarning: The Assistants API is deprecated in favor of the Responses API\n",
      "  run = client.beta.threads.runs.retrieve(\n"
     ]
    }
   ],
   "source": [
    "# Aguarda a Thread rodar\n",
    "import time\n",
    "\n",
    "while run.status in [\"queued\", \"in_progress\", \"cancelling\"]:\n",
    "    time.sleep(1)\n",
    "    \n",
    "    run = client.beta.threads.runs.retrieve(\n",
    "        thread_id = thread.id,\n",
    "        run_id = run.id\n",
    "    )"
   ]
  },
  {
   "cell_type": "code",
   "execution_count": 18,
   "id": "855e5de4",
   "metadata": {},
   "outputs": [
    {
     "name": "stderr",
     "output_type": "stream",
     "text": [
      "/var/folders/gq/3vbww1bj7x9dpmp6zy8llslw0000gn/T/ipykernel_43732/1142915008.py:4: DeprecationWarning: The Assistants API is deprecated in favor of the Responses API\n",
      "  mensagem = client.beta.threads.messages.list(\n"
     ]
    },
    {
     "name": "stdout",
     "output_type": "stream",
     "text": [
      "SyncCursorPage[Message](data=[Message(id='msg_XAOsb3KRY5h1oG0KwMdByFF4', assistant_id='asst_DHyV86HP4wFbPF4zWGo7dQLH', attachments=[], completed_at=None, content=[TextContentBlock(text=Text(annotations=[], value=\"Após a conversão do endereço hexadecimal 0x1A23C para binário, identificamos que:\\n- Os bits do tag são '00'.\\n- Os bits do índice da linha são '011010001000'.\\n- Os bits do offset do bloco são '111100'.\\n\\nPortanto, o bloco de endereço 0x1A23C será mapeado na linha de índice '011010001000' da cache.\"), type='text')], created_at=1751348076, incomplete_at=None, incomplete_details=None, metadata={}, object='thread.message', role='assistant', run_id='run_DOMxHRgSX7mc90BqEte5OB3M', status=None, thread_id='thread_uVS4kHwjHvBLbmlCaGhPWVkM'), Message(id='msg_3BKObvEf6ngpiOiguEQSKn2T', assistant_id='asst_DHyV86HP4wFbPF4zWGo7dQLH', attachments=[], completed_at=None, content=[TextContentBlock(text=Text(annotations=[], value='Portanto, a cache com mapeamento direto terá 4096 linhas.\\n\\nAgora, para determinar onde o bloco de endereço 0x1A23C será mapeado na cache, podemos seguir os seguintes passos:\\n1. Primeiro, precisamos converter o endereço hexadecimal 0x1A23C para binário.\\n2. Em seguida, identificamos o tamanho do bloco em binário para encontrar os bits que representam o offset do bloco.\\n3. Por fim, determinamos a linha na cache onde o bloco será mapeado. \\n\\nVamos realizar esses cálculos.'), type='text')], created_at=1751348071, incomplete_at=None, incomplete_details=None, metadata={}, object='thread.message', role='assistant', run_id='run_DOMxHRgSX7mc90BqEte5OB3M', status=None, thread_id='thread_uVS4kHwjHvBLbmlCaGhPWVkM'), Message(id='msg_8rd4QYo917iRsz1ujQS9t0Oh', assistant_id='asst_DHyV86HP4wFbPF4zWGo7dQLH', attachments=[], completed_at=None, content=[TextContentBlock(text=Text(annotations=[], value='Para calcular o número de linhas na cache, precisamos dividir o tamanho total da cache pelo tamanho de cada bloco.\\n\\nDado:\\n- Tamanho da cache: 256 kB = 256 * 1024 bytes\\n- Tamanho do bloco: 64 bytes\\n\\nVamos calcular o número de linhas na cache.'), type='text')], created_at=1751348068, incomplete_at=None, incomplete_details=None, metadata={}, object='thread.message', role='assistant', run_id='run_DOMxHRgSX7mc90BqEte5OB3M', status=None, thread_id='thread_uVS4kHwjHvBLbmlCaGhPWVkM'), Message(id='msg_q3u9clxQPt1vQ5bozfsUiVkq', assistant_id=None, attachments=[], completed_at=None, content=[TextContentBlock(text=Text(annotations=[], value='\"\\nEm um sistema de cache com mapeamento direto, dado uma memória principal \\nde uma cache de 256 kb e blocos de 64 Bytes:\\n- Quantas linhas existem na cache?\\n- Onde o bloco de endreço 0x1A23C será mepado na cache?\\n'), type='text')], created_at=1751347985, incomplete_at=None, incomplete_details=None, metadata={}, object='thread.message', role='user', run_id=None, status=None, thread_id='thread_uVS4kHwjHvBLbmlCaGhPWVkM')], has_more=False, object='list', first_id='msg_XAOsb3KRY5h1oG0KwMdByFF4', last_id='msg_q3u9clxQPt1vQ5bozfsUiVkq')\n"
     ]
    }
   ],
   "source": [
    "# Verificar a resposta\n",
    "\n",
    "if run.status == \"completed\":\n",
    "    mensagem = client.beta.threads.messages.list(\n",
    "        thread_id=thread.id\n",
    "    )\n",
    "    print(mensagem)\n",
    "else:\n",
    "    print(f\"Erro: {run.status}\")    "
   ]
  },
  {
   "cell_type": "code",
   "execution_count": 19,
   "id": "e394e28b",
   "metadata": {},
   "outputs": [
    {
     "name": "stdout",
     "output_type": "stream",
     "text": [
      "Após a conversão do endereço hexadecimal 0x1A23C para binário, identificamos que:\n",
      "- Os bits do tag são '00'.\n",
      "- Os bits do índice da linha são '011010001000'.\n",
      "- Os bits do offset do bloco são '111100'.\n",
      "\n",
      "Portanto, o bloco de endereço 0x1A23C será mapeado na linha de índice '011010001000' da cache.\n"
     ]
    }
   ],
   "source": [
    "print(mensagem.data[0].content[0].text.value)"
   ]
  },
  {
   "cell_type": "code",
   "execution_count": 26,
   "id": "ba6f6efc",
   "metadata": {},
   "outputs": [
    {
     "name": "stderr",
     "output_type": "stream",
     "text": [
      "/var/folders/gq/3vbww1bj7x9dpmp6zy8llslw0000gn/T/ipykernel_43732/1597243276.py:2: DeprecationWarning: The Assistants API is deprecated in favor of the Responses API\n",
      "  run_steps = client.beta.threads.runs.steps.list(\n"
     ]
    }
   ],
   "source": [
    "# Analisando os passos do modelo\n",
    "run_steps = client.beta.threads.runs.steps.list(\n",
    "    thread_id=thread.id,\n",
    "    run_id=run.id\n",
    ")"
   ]
  },
  {
   "cell_type": "code",
   "execution_count": 27,
   "id": "72660d07",
   "metadata": {},
   "outputs": [
    {
     "name": "stdout",
     "output_type": "stream",
     "text": [
      "\n",
      "====Step message_creation\n"
     ]
    },
    {
     "name": "stderr",
     "output_type": "stream",
     "text": [
      "/var/folders/gq/3vbww1bj7x9dpmp6zy8llslw0000gn/T/ipykernel_43732/2949532723.py:10: DeprecationWarning: The Assistants API is deprecated in favor of the Responses API\n",
      "  message = client.beta.threads.messages.retrieve(\n"
     ]
    },
    {
     "name": "stdout",
     "output_type": "stream",
     "text": [
      "Para calcular o número de linhas na cache, precisamos dividir o tamanho total da cache pelo tamanho de cada bloco.\n",
      "\n",
      "Dado:\n",
      "- Tamanho da cache: 256 kB = 256 * 1024 bytes\n",
      "- Tamanho do bloco: 64 bytes\n",
      "\n",
      "Vamos calcular o número de linhas na cache.\n",
      "\n",
      "====Step tool_calls\n",
      "\n",
      "====Step message_creation\n",
      "Portanto, a cache com mapeamento direto terá 4096 linhas.\n",
      "\n",
      "Agora, para determinar onde o bloco de endereço 0x1A23C será mapeado na cache, podemos seguir os seguintes passos:\n",
      "1. Primeiro, precisamos converter o endereço hexadecimal 0x1A23C para binário.\n",
      "2. Em seguida, identificamos o tamanho do bloco em binário para encontrar os bits que representam o offset do bloco.\n",
      "3. Por fim, determinamos a linha na cache onde o bloco será mapeado. \n",
      "\n",
      "Vamos realizar esses cálculos.\n",
      "\n",
      "====Step tool_calls\n",
      "\n",
      "====Step message_creation\n",
      "Após a conversão do endereço hexadecimal 0x1A23C para binário, identificamos que:\n",
      "- Os bits do tag são '00'.\n",
      "- Os bits do índice da linha são '011010001000'.\n",
      "- Os bits do offset do bloco são '111100'.\n",
      "\n",
      "Portanto, o bloco de endereço 0x1A23C será mapeado na linha de índice '011010001000' da cache.\n"
     ]
    }
   ],
   "source": [
    "for step in run_steps.data[::-1]:\n",
    "    print(f\"\\n====Step {step.step_details.type}\")\n",
    "\n",
    "    if step.step_details.type == \"toool_calls\":\n",
    "        for tool_call in step.tool_calls:\n",
    "            print(\"=\" *10)\n",
    "            print(tool_call.code_interpreter.input)\n",
    "            print(\"=\"*10)\n",
    "    if step.step_details.type == \"message_creation\":\n",
    "        message = client.beta.threads.messages.retrieve(\n",
    "            thread_id=thread.id,\n",
    "            message_id=step.step_details.message_creation.message_id\n",
    "        )\n",
    "\n",
    "        print(message.content[0].text.value)\n"
   ]
  }
 ],
 "metadata": {
  "kernelspec": {
   "display_name": ".venv",
   "language": "python",
   "name": "python3"
  },
  "language_info": {
   "codemirror_mode": {
    "name": "ipython",
    "version": 3
   },
   "file_extension": ".py",
   "mimetype": "text/x-python",
   "name": "python",
   "nbconvert_exporter": "python",
   "pygments_lexer": "ipython3",
   "version": "3.12.7"
  }
 },
 "nbformat": 4,
 "nbformat_minor": 5
}
