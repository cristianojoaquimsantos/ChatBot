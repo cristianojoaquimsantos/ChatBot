{
 "cells": [
  {
   "cell_type": "code",
   "execution_count": 1,
   "id": "819b89ad",
   "metadata": {},
   "outputs": [],
   "source": [
    "import openai\n",
    "import pandas as pd"
   ]
  },
  {
   "cell_type": "code",
   "execution_count": null,
   "id": "c754098b",
   "metadata": {},
   "outputs": [],
   "source": [
    "client = openai.Client()"
   ]
  },
  {
   "cell_type": "code",
   "execution_count": 3,
   "id": "b854a08f",
   "metadata": {},
   "outputs": [],
   "source": [
    "file = client.files.create(\n",
    "    file=open(\"../sales_data.csv\", \"rb\"),\n",
    "    purpose=\"assistants\"\n",
    ")"
   ]
  },
  {
   "cell_type": "code",
   "execution_count": 4,
   "id": "fca5e364",
   "metadata": {},
   "outputs": [
    {
     "name": "stdout",
     "output_type": "stream",
     "text": [
      "File ID: file-41g9YZh54gQ6xG3VLUqrE5\n"
     ]
    }
   ],
   "source": [
    "print(f\"File ID: {file.id}\")"
   ]
  },
  {
   "cell_type": "code",
   "execution_count": 6,
   "id": "faabc045",
   "metadata": {},
   "outputs": [],
   "source": [
    "assistant = client.beta.assistants.create(\n",
    "    name = \"Analista de Dados\",\n",
    "    instructions = \"Você é um analista que analisa dados sobre vendas\",\n",
    "    tools= [{\"type\": \"code_interpreter\"}],\n",
    "    tool_resources={\"code_interpreter\":{\"file_ids\": [file.id]}},\n",
    "    model = \"gpt-4o\"\n",
    ")"
   ]
  },
  {
   "cell_type": "code",
   "execution_count": 33,
   "id": "9f643a0f",
   "metadata": {},
   "outputs": [],
   "source": [
    "# pergunta = \"Qual o rating médio das vendas do supermercado?\"\n",
    "pergunta = \"Gere um gráfico de pizza com o percentual de vendas por linha de produto.\""
   ]
  },
  {
   "cell_type": "code",
   "execution_count": 34,
   "id": "48cca8ad",
   "metadata": {},
   "outputs": [
    {
     "name": "stderr",
     "output_type": "stream",
     "text": [
      "/var/folders/gq/3vbww1bj7x9dpmp6zy8llslw0000gn/T/ipykernel_85546/3685932091.py:1: DeprecationWarning: The Assistants API is deprecated in favor of the Responses API\n",
      "  thread = client.beta.threads.create()\n",
      "/var/folders/gq/3vbww1bj7x9dpmp6zy8llslw0000gn/T/ipykernel_85546/3685932091.py:2: DeprecationWarning: The Assistants API is deprecated in favor of the Responses API\n",
      "  message = client.beta.threads.messages.create(\n"
     ]
    }
   ],
   "source": [
    "thread = client.beta.threads.create()\n",
    "message = client.beta.threads.messages.create(\n",
    "    thread_id = thread.id,\n",
    "    role = \"user\",\n",
    "    content = pergunta\n",
    ")"
   ]
  },
  {
   "cell_type": "code",
   "execution_count": 35,
   "id": "57ea78ed",
   "metadata": {},
   "outputs": [
    {
     "name": "stderr",
     "output_type": "stream",
     "text": [
      "/var/folders/gq/3vbww1bj7x9dpmp6zy8llslw0000gn/T/ipykernel_85546/1703593232.py:2: DeprecationWarning: The Assistants API is deprecated in favor of the Responses API\n",
      "  run = client.beta.threads.runs.create(\n"
     ]
    }
   ],
   "source": [
    "# Executa a Trhead\n",
    "run = client.beta.threads.runs.create(\n",
    "    thread_id = thread.id,\n",
    "    assistant_id = assistant.id,\n",
    "    instructions= \"Nome e usuário premium\"\n",
    ")"
   ]
  },
  {
   "cell_type": "code",
   "execution_count": 36,
   "id": "301ab2b9",
   "metadata": {},
   "outputs": [
    {
     "name": "stderr",
     "output_type": "stream",
     "text": [
      "/var/folders/gq/3vbww1bj7x9dpmp6zy8llslw0000gn/T/ipykernel_85546/3925348386.py:7: DeprecationWarning: The Assistants API is deprecated in favor of the Responses API\n",
      "  run = client.beta.threads.runs.retrieve(\n"
     ]
    }
   ],
   "source": [
    "# Aguarda a Thread rodar\n",
    "import time\n",
    "\n",
    "while run.status in [\"queued\", \"in_progress\", \"cancelling\"]:\n",
    "    time.sleep(1)\n",
    "    \n",
    "    run = client.beta.threads.runs.retrieve(\n",
    "        thread_id = thread.id,\n",
    "        run_id = run.id\n",
    "    )"
   ]
  },
  {
   "cell_type": "code",
   "execution_count": 37,
   "id": "b94603e7",
   "metadata": {},
   "outputs": [
    {
     "name": "stderr",
     "output_type": "stream",
     "text": [
      "/var/folders/gq/3vbww1bj7x9dpmp6zy8llslw0000gn/T/ipykernel_85546/1142915008.py:4: DeprecationWarning: The Assistants API is deprecated in favor of the Responses API\n",
      "  mensagem = client.beta.threads.messages.list(\n"
     ]
    },
    {
     "name": "stdout",
     "output_type": "stream",
     "text": [
      "SyncCursorPage[Message](data=[Message(id='msg_Q6vI57KYMGi4mlrABDlZZRz5', assistant_id='asst_nSVitkaGxMGWOcCzANdfb7D1', attachments=[], completed_at=None, content=[ImageFileContentBlock(image_file=ImageFile(file_id='file-AoThkhV2q2MdUWtF3CGtze', detail=None), type='image_file'), TextContentBlock(text=Text(annotations=[], value='Aqui está o gráfico de pizza mostrando o percentual de vendas por linha de produto. Cada fatia representa a proporção das vendas totais atribuídas a cada linha de produto. Se você tiver mais alguma dúvida ou precisar de outra análise, estou à disposição para ajudar!'), type='text')], created_at=1752562838, incomplete_at=None, incomplete_details=None, metadata={}, object='thread.message', role='assistant', run_id='run_oibD6ItQJjis44OE75iAB8Sn', status=None, thread_id='thread_Bm0VvBqQB8HFbuOIEPUM0jiY'), Message(id='msg_INM2eL70LBP59NBhtzuka3pv', assistant_id='asst_nSVitkaGxMGWOcCzANdfb7D1', attachments=[], completed_at=None, content=[TextContentBlock(text=Text(annotations=[], value='O arquivo contém um conjunto de dados de vendas, incluindo informações como ID da fatura, cidade, tipo de cliente, gênero, linha de produto, preço unitário, quantidade, impostos, total e outros detalhes. Para gerar o gráfico de pizza, concentraremos nos dados das colunas \"Product Line\" e \"Total\" para calcular o percentual de vendas por linha de produto.\\n\\nVamos agora calcular os percentuais e criar o gráfico.'), type='text')], created_at=1752562830, incomplete_at=None, incomplete_details=None, metadata={}, object='thread.message', role='assistant', run_id='run_oibD6ItQJjis44OE75iAB8Sn', status=None, thread_id='thread_Bm0VvBqQB8HFbuOIEPUM0jiY'), Message(id='msg_sQ636Gle1QpaRrieU1MPq4Ay', assistant_id='asst_nSVitkaGxMGWOcCzANdfb7D1', attachments=[], completed_at=None, content=[TextContentBlock(text=Text(annotations=[], value='Para gerar um gráfico de pizza com o percentual de vendas por linha de produto, primeiro preciso inspecionar o conteúdo do arquivo enviado. Vou começar verificando o formato do arquivo e os dados contidos nele.'), type='text')], created_at=1752562826, incomplete_at=None, incomplete_details=None, metadata={}, object='thread.message', role='assistant', run_id='run_oibD6ItQJjis44OE75iAB8Sn', status=None, thread_id='thread_Bm0VvBqQB8HFbuOIEPUM0jiY'), Message(id='msg_2qpHa2YJLQ2Z4UBBzBs5Xlec', assistant_id=None, attachments=[], completed_at=None, content=[TextContentBlock(text=Text(annotations=[], value='Gere um gráfico de pizza com o percentual de vendas por linha de produto.'), type='text')], created_at=1752562819, incomplete_at=None, incomplete_details=None, metadata={}, object='thread.message', role='user', run_id=None, status=None, thread_id='thread_Bm0VvBqQB8HFbuOIEPUM0jiY')], has_more=False, object='list', first_id='msg_Q6vI57KYMGi4mlrABDlZZRz5', last_id='msg_2qpHa2YJLQ2Z4UBBzBs5Xlec')\n"
     ]
    }
   ],
   "source": [
    "# Verificar a resposta\n",
    "\n",
    "if run.status == \"completed\":\n",
    "    mensagem = client.beta.threads.messages.list(\n",
    "        thread_id=thread.id\n",
    "    )\n",
    "    print(mensagem)\n",
    "else:\n",
    "    print(f\"Erro: {run.status}\")    "
   ]
  },
  {
   "cell_type": "code",
   "execution_count": 39,
   "id": "c2e305d0",
   "metadata": {},
   "outputs": [
    {
     "name": "stderr",
     "output_type": "stream",
     "text": [
      "/var/folders/gq/3vbww1bj7x9dpmp6zy8llslw0000gn/T/ipykernel_85546/1597243276.py:2: DeprecationWarning: The Assistants API is deprecated in favor of the Responses API\n",
      "  run_steps = client.beta.threads.runs.steps.list(\n"
     ]
    }
   ],
   "source": [
    "# Analisando os passos do modelo\n",
    "run_steps = client.beta.threads.runs.steps.list(\n",
    "    thread_id=thread.id,\n",
    "    run_id=run.id\n",
    ")"
   ]
  },
  {
   "cell_type": "code",
   "execution_count": 45,
   "id": "d4585cb2",
   "metadata": {},
   "outputs": [
    {
     "name": "stdout",
     "output_type": "stream",
     "text": [
      "\n",
      "====Step message_creation\n"
     ]
    },
    {
     "name": "stderr",
     "output_type": "stream",
     "text": [
      "/var/folders/gq/3vbww1bj7x9dpmp6zy8llslw0000gn/T/ipykernel_85546/3493538446.py:10: DeprecationWarning: The Assistants API is deprecated in favor of the Responses API\n",
      "  message = client.beta.threads.messages.retrieve(\n"
     ]
    },
    {
     "name": "stdout",
     "output_type": "stream",
     "text": [
      "Para gerar um gráfico de pizza com o percentual de vendas por linha de produto, primeiro preciso inspecionar o conteúdo do arquivo enviado. Vou começar verificando o formato do arquivo e os dados contidos nele.\n",
      "\n",
      "====Step tool_calls\n",
      "\n",
      "====Step message_creation\n",
      "O arquivo contém um conjunto de dados de vendas, incluindo informações como ID da fatura, cidade, tipo de cliente, gênero, linha de produto, preço unitário, quantidade, impostos, total e outros detalhes. Para gerar o gráfico de pizza, concentraremos nos dados das colunas \"Product Line\" e \"Total\" para calcular o percentual de vendas por linha de produto.\n",
      "\n",
      "Vamos agora calcular os percentuais e criar o gráfico.\n",
      "\n",
      "====Step tool_calls\n",
      "\n",
      "====Step message_creation\n",
      "Imagem salva como files/file-41g9YZh54gQ6xG3VLUqrE5.png\n"
     ]
    }
   ],
   "source": [
    "for step in run_steps.data[::-1]:\n",
    "    print(f\"\\n====Step {step.step_details.type}\")\n",
    "\n",
    "    if step.step_details.type == \"toool_calls\":\n",
    "        for tool_call in step.tool_calls:\n",
    "            print(\"=\" *10)\n",
    "            print(tool_call.code_interpreter.input)\n",
    "            print(\"=\"*10)\n",
    "    if step.step_details.type == \"message_creation\":\n",
    "        message = client.beta.threads.messages.retrieve(\n",
    "            thread_id=thread.id,\n",
    "            message_id=step.step_details.message_creation.message_id\n",
    "        )\n",
    "        if message.content[0].type == \"text\":\n",
    "            print(message.content[0].text.value)\n",
    "        if message.content[0].type == \"image_file\":\n",
    "            file_id = message.content[0].image_file.file_id\n",
    "            image_data = client.files.content(file_id)\n",
    "            with open(f\"files/{file.id}.png\", \"wb\") as f:\n",
    "                f.write(image_data.read())\n",
    "                print(f\"Imagem salva como files/{file.id}.png\")\n"
   ]
  }
 ],
 "metadata": {
  "kernelspec": {
   "display_name": ".venv",
   "language": "python",
   "name": "python3"
  },
  "language_info": {
   "codemirror_mode": {
    "name": "ipython",
    "version": 3
   },
   "file_extension": ".py",
   "mimetype": "text/x-python",
   "name": "python",
   "nbconvert_exporter": "python",
   "pygments_lexer": "ipython3",
   "version": "3.13.3"
  }
 },
 "nbformat": 4,
 "nbformat_minor": 5
}
