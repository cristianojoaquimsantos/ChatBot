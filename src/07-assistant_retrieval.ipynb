{
 "cells": [
  {
   "cell_type": "code",
   "execution_count": 1,
   "id": "20207815",
   "metadata": {},
   "outputs": [],
   "source": [
    "import openai"
   ]
  },
  {
   "cell_type": "code",
   "execution_count": 2,
   "id": "a25cc73e",
   "metadata": {},
   "outputs": [],
   "source": [
    "client = openai.Client()"
   ]
  },
  {
   "cell_type": "code",
   "execution_count": 4,
   "id": "f687a24c",
   "metadata": {},
   "outputs": [],
   "source": [
    "vector_store = client.vector_stores.create(\n",
    "    name=\"Tutor de Apostilas\"\n",
    ")"
   ]
  },
  {
   "cell_type": "code",
   "execution_count": 19,
   "id": "fa382928",
   "metadata": {},
   "outputs": [],
   "source": [
    "file = [\"files/LLM.pdf\"]\n",
    "file_stream = [open(f, \"rb\") for f in file]\n",
    "file_batch = client.vector_stores.file_batches.upload_and_poll(\n",
    "    vector_store_id=vector_store.id,\n",
    "    files=file_stream\n",
    ")"
   ]
  },
  {
   "cell_type": "code",
   "execution_count": 20,
   "id": "6196b804",
   "metadata": {},
   "outputs": [
    {
     "data": {
      "text/plain": [
       "'completed'"
      ]
     },
     "execution_count": 20,
     "metadata": {},
     "output_type": "execute_result"
    }
   ],
   "source": [
    "file_batch.status"
   ]
  },
  {
   "cell_type": "code",
   "execution_count": 21,
   "id": "966c1995",
   "metadata": {},
   "outputs": [
    {
     "data": {
      "text/plain": [
       "FileCounts(cancelled=0, completed=1, failed=0, in_progress=0, total=1)"
      ]
     },
     "execution_count": 21,
     "metadata": {},
     "output_type": "execute_result"
    }
   ],
   "source": [
    "file_batch.file_counts"
   ]
  },
  {
   "cell_type": "code",
   "execution_count": 22,
   "id": "c9c1bb19",
   "metadata": {},
   "outputs": [],
   "source": [
    "assistant = client.beta.assistants.create(\n",
    "    name=\"Tutor de Apostilas\",\n",
    "    instructions=\"Você é um tutor especializado em tecnologias emergentes.  \\\n",
    "    Você sabe responder perguntas sobre LLMs como OpenAI, Hugging Face, etc. \\\n",
    "    Caso você não saiba as respostas, seja sincero e fale que não sabe responder.\",\n",
    "    tools=[{\"type\": \"file_search\"}],\n",
    "    tool_resources={\"file_search\": {\"vector_store_ids\": [vector_store.id]}},\n",
    "    model=\"gpt-4-turbo-preview\"\n",
    ")"
   ]
  },
  {
   "cell_type": "code",
   "execution_count": 23,
   "id": "2b0c7d9b",
   "metadata": {},
   "outputs": [],
   "source": [
    "pergunta = \"Conforme o Documento, o que é o Hugging Face?\""
   ]
  },
  {
   "cell_type": "code",
   "execution_count": 24,
   "id": "fbfd85da",
   "metadata": {},
   "outputs": [
    {
     "name": "stderr",
     "output_type": "stream",
     "text": [
      "/var/folders/vc/sckgbrmn3z341jpkwqmzrp8h0000gn/T/ipykernel_905/3685932091.py:1: DeprecationWarning: The Assistants API is deprecated in favor of the Responses API\n",
      "  thread = client.beta.threads.create()\n",
      "/var/folders/vc/sckgbrmn3z341jpkwqmzrp8h0000gn/T/ipykernel_905/3685932091.py:2: DeprecationWarning: The Assistants API is deprecated in favor of the Responses API\n",
      "  message = client.beta.threads.messages.create(\n"
     ]
    }
   ],
   "source": [
    "thread = client.beta.threads.create()\n",
    "message = client.beta.threads.messages.create(\n",
    "    thread_id = thread.id,\n",
    "    role = \"user\",\n",
    "    content = pergunta\n",
    ")"
   ]
  },
  {
   "cell_type": "code",
   "execution_count": 25,
   "id": "6f6c49d2",
   "metadata": {},
   "outputs": [
    {
     "name": "stderr",
     "output_type": "stream",
     "text": [
      "/var/folders/vc/sckgbrmn3z341jpkwqmzrp8h0000gn/T/ipykernel_905/1703593232.py:2: DeprecationWarning: The Assistants API is deprecated in favor of the Responses API\n",
      "  run = client.beta.threads.runs.create(\n"
     ]
    }
   ],
   "source": [
    "# Executa a Trhead\n",
    "run = client.beta.threads.runs.create(\n",
    "    thread_id = thread.id,\n",
    "    assistant_id = assistant.id,\n",
    "    instructions= \"Nome e usuário premium\"\n",
    ")"
   ]
  },
  {
   "cell_type": "code",
   "execution_count": 26,
   "id": "25cc92e8",
   "metadata": {},
   "outputs": [
    {
     "name": "stderr",
     "output_type": "stream",
     "text": [
      "/var/folders/vc/sckgbrmn3z341jpkwqmzrp8h0000gn/T/ipykernel_905/3925348386.py:7: DeprecationWarning: The Assistants API is deprecated in favor of the Responses API\n",
      "  run = client.beta.threads.runs.retrieve(\n"
     ]
    }
   ],
   "source": [
    "# Aguarda a Thread rodar\n",
    "import time\n",
    "\n",
    "while run.status in [\"queued\", \"in_progress\", \"cancelling\"]:\n",
    "    time.sleep(1)\n",
    "    \n",
    "    run = client.beta.threads.runs.retrieve(\n",
    "        thread_id = thread.id,\n",
    "        run_id = run.id\n",
    "    )"
   ]
  },
  {
   "cell_type": "code",
   "execution_count": 27,
   "id": "4b33dd87",
   "metadata": {},
   "outputs": [
    {
     "name": "stderr",
     "output_type": "stream",
     "text": [
      "/var/folders/vc/sckgbrmn3z341jpkwqmzrp8h0000gn/T/ipykernel_905/1142915008.py:4: DeprecationWarning: The Assistants API is deprecated in favor of the Responses API\n",
      "  mensagem = client.beta.threads.messages.list(\n"
     ]
    },
    {
     "name": "stdout",
     "output_type": "stream",
     "text": [
      "SyncCursorPage[Message](data=[Message(id='msg_jSsXO6TCwUnbsg6zYQOLf9AD', assistant_id='asst_wme3xquBDw2Ocq7htbje74mi', attachments=[], completed_at=None, content=[TextContentBlock(text=Text(annotations=[FileCitationAnnotation(end_index=436, file_citation=FileCitation(file_id='file-3tJeojZkjPqGGLX2VQ9biD'), start_index=423, text='【4:0†LLM.pdf】', type='file_citation')], value='O Hugging Face é descrito como uma comunidade de código aberto que reúne centenas de milhares de modelos de contribuidores, os quais podem ajudar a resolver muitos casos de uso específicos, como geração de texto, resumo e classificação. Esta comunidade de código aberto está rapidamente alcançando o desempenho dos modelos proprietários, embora ainda não tenha conseguido equiparar-se ao desempenho de sistemas como o GPT-4【4:0†LLM.pdf】.'), type='text')], created_at=1753162156, incomplete_at=None, incomplete_details=None, metadata={}, object='thread.message', role='assistant', run_id='run_S5Lp6ozbPpOWyQVt491Ijc5v', status=None, thread_id='thread_wKfNC5p6swCnhqwcb7iTOiL0'), Message(id='msg_FvJyz1L1COmM3Oo9OBwfDHfn', assistant_id=None, attachments=[], completed_at=None, content=[TextContentBlock(text=Text(annotations=[], value='Conforme o Documento, o que é o Hugging Face?'), type='text')], created_at=1753162145, incomplete_at=None, incomplete_details=None, metadata={}, object='thread.message', role='user', run_id=None, status=None, thread_id='thread_wKfNC5p6swCnhqwcb7iTOiL0')], has_more=False, object='list', first_id='msg_jSsXO6TCwUnbsg6zYQOLf9AD', last_id='msg_FvJyz1L1COmM3Oo9OBwfDHfn')\n"
     ]
    }
   ],
   "source": [
    "# Verificar a resposta\n",
    "\n",
    "if run.status == \"completed\":\n",
    "    mensagem = client.beta.threads.messages.list(\n",
    "        thread_id=thread.id\n",
    "    )\n",
    "    print(mensagem)\n",
    "else:\n",
    "    print(f\"Erro: {run.status}\")    "
   ]
  },
  {
   "cell_type": "code",
   "execution_count": 28,
   "id": "ca7f2ec1",
   "metadata": {},
   "outputs": [
    {
     "name": "stdout",
     "output_type": "stream",
     "text": [
      "O Hugging Face é descrito como uma comunidade de código aberto que reúne centenas de milhares de modelos de contribuidores, os quais podem ajudar a resolver muitos casos de uso específicos, como geração de texto, resumo e classificação. Esta comunidade de código aberto está rapidamente alcançando o desempenho dos modelos proprietários, embora ainda não tenha conseguido equiparar-se ao desempenho de sistemas como o GPT-4【4:0†LLM.pdf】.\n"
     ]
    }
   ],
   "source": [
    "print(mensagem.data[0].content[0].text.value)"
   ]
  }
 ],
 "metadata": {
  "kernelspec": {
   "display_name": ".venv",
   "language": "python",
   "name": "python3"
  },
  "language_info": {
   "codemirror_mode": {
    "name": "ipython",
    "version": 3
   },
   "file_extension": ".py",
   "mimetype": "text/x-python",
   "name": "python",
   "nbconvert_exporter": "python",
   "pygments_lexer": "ipython3",
   "version": "3.13.3"
  }
 },
 "nbformat": 4,
 "nbformat_minor": 5
}
