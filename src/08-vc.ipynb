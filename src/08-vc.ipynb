{
 "cells": [
  {
   "cell_type": "code",
   "execution_count": 1,
   "id": "d6492350",
   "metadata": {},
   "outputs": [],
   "source": [
    "import openai\n",
    "from PIL import Image\n",
    "import requests"
   ]
  },
  {
   "cell_type": "code",
   "execution_count": 2,
   "id": "e0964319",
   "metadata": {},
   "outputs": [],
   "source": [
    "client = openai.Client()"
   ]
  },
  {
   "cell_type": "code",
   "execution_count": 3,
   "id": "01ba36f2",
   "metadata": {},
   "outputs": [],
   "source": [
    "### Gerar Imagens"
   ]
  },
  {
   "cell_type": "code",
   "execution_count": 4,
   "id": "07132b85",
   "metadata": {},
   "outputs": [],
   "source": [
    "nome = \"robo-praia\"\n",
    "model = \"dall-e-3\"\n",
    "prompt = \"Crie uma imagem com dois robôs em uma praria lendo livro de finanças\"\n",
    "size = \"1024x1024\"\n",
    "quality = \"hd\"\n",
    "style = \"vivid\""
   ]
  },
  {
   "cell_type": "code",
   "execution_count": 5,
   "id": "9f3c55e9",
   "metadata": {},
   "outputs": [],
   "source": [
    "resposta = client.images.generate(\n",
    "    model=model,\n",
    "    prompt=prompt,\n",
    "    size=size,\n",
    "    quality=quality,\n",
    "    style=style,\n",
    "    n=1)"
   ]
  },
  {
   "cell_type": "code",
   "execution_count": 6,
   "id": "a8e6f70f",
   "metadata": {},
   "outputs": [
    {
     "data": {
      "text/plain": [
       "'Create an image of two robots sitting on a sandy beach, with a serene ocean view in the background. They are completely engrossed in reading a book on finance, with details of bar graphs and pie charts visible on the open pages. Gentle waves are lapping at the shore while the sun sets in a spectrum of vivid colors in their backdrop.'"
      ]
     },
     "execution_count": 6,
     "metadata": {},
     "output_type": "execute_result"
    }
   ],
   "source": [
    "resposta.data[0].revised_prompt"
   ]
  },
  {
   "cell_type": "code",
   "execution_count": 7,
   "id": "b284972c",
   "metadata": {},
   "outputs": [],
   "source": [
    "nome_arquivo = f\"files/{nome}_{model}_{quality}_{style}.jpg\"\n",
    "image_url = resposta.data[0].url\n",
    "image_data = requests.get(image_url).content\n",
    "with open(nome_arquivo, 'wb') as f:\n",
    "    f.write(image_data)"
   ]
  },
  {
   "cell_type": "markdown",
   "id": "5a1e1597",
   "metadata": {},
   "source": [
    "Image to Text"
   ]
  },
  {
   "cell_type": "code",
   "execution_count": 8,
   "id": "05c1a9fd",
   "metadata": {},
   "outputs": [],
   "source": [
    "resposta = client.chat.completions.create(\n",
    "    model=\"gpt-4o\",\n",
    "    messages=[{\n",
    "        \"role\": \"user\", \n",
    "        \"content\": [\n",
    "            {\"type\": \"text\", \"text\": \"Descreve a imagem fornecida.\"},\n",
    "            {\"type\": \"image_url\", \"image_url\": {\n",
    "                \"url\": \"https://harus.ind.br/wp-content/uploads/2023/02/5-praias-brasileiras.jpg\"\n",
    "            }}\n",
    "        ]\n",
    "    }]\n",
    ")"
   ]
  },
  {
   "cell_type": "code",
   "execution_count": 9,
   "id": "080dd174",
   "metadata": {},
   "outputs": [
    {
     "data": {
      "text/plain": [
       "'A imagem mostra uma praia tropical ao pôr do sol. Há uma palmeira inclinada à esquerda, e outras palmeiras ao fundo. O céu está com um tom alaranjado, refletindo nas águas calmas do mar. A areia é clara e a cena transmite uma sensação de tranquilidade e beleza natural.'"
      ]
     },
     "execution_count": 9,
     "metadata": {},
     "output_type": "execute_result"
    }
   ],
   "source": [
    "resposta.choices[0].message.content"
   ]
  },
  {
   "cell_type": "markdown",
   "id": "2f6f416b",
   "metadata": {},
   "source": [
    "Extraia placa de carro"
   ]
  },
  {
   "cell_type": "code",
   "execution_count": 10,
   "id": "ebabe259",
   "metadata": {},
   "outputs": [],
   "source": [
    "texto = \"Qual é a placa? Devolva apenas a placa!\""
   ]
  },
  {
   "cell_type": "code",
   "execution_count": 16,
   "id": "8f9cd76c",
   "metadata": {},
   "outputs": [],
   "source": [
    "resposta = client.chat.completions.create(\n",
    "    model=\"gpt-4o-mini\",\n",
    "    messages=[{\n",
    "        \"role\": \"user\", \n",
    "        \"content\": [\n",
    "            {\"type\": \"text\", \"text\": texto},\n",
    "            {\"type\": \"image_url\", \"image_url\": {\n",
    "                \"url\": \"https://quatrorodas.abril.com.br/wp-content/uploads/2018/09/imagem-e1536873662306.jpg?quality=70&strip=info&w=720&crop=1\"\n",
    "            }}\n",
    "        ]\n",
    "    }],\n",
    "    max_tokens=1000\n",
    ")"
   ]
  },
  {
   "cell_type": "code",
   "execution_count": 17,
   "id": "ff2f336d",
   "metadata": {},
   "outputs": [
    {
     "data": {
      "text/plain": [
       "'R102A19'"
      ]
     },
     "execution_count": 17,
     "metadata": {},
     "output_type": "execute_result"
    }
   ],
   "source": [
    "resposta.choices[0].message.content"
   ]
  },
  {
   "cell_type": "markdown",
   "id": "bcb5e22a",
   "metadata": {},
   "source": [
    "OCR"
   ]
  },
  {
   "cell_type": "code",
   "execution_count": 18,
   "id": "95500057",
   "metadata": {},
   "outputs": [],
   "source": [
    "texto = \"O que está escrito na imagem?\""
   ]
  },
  {
   "cell_type": "code",
   "execution_count": 19,
   "id": "a8ed8f0a",
   "metadata": {},
   "outputs": [],
   "source": [
    "resposta = client.chat.completions.create(\n",
    "    model=\"gpt-4o-mini\",\n",
    "    messages=[{\n",
    "        \"role\": \"user\", \n",
    "        \"content\": [\n",
    "            {\"type\": \"text\", \"text\": texto},\n",
    "            {\"type\": \"image_url\", \"image_url\": {\n",
    "                \"url\": \"https://www.rbsdirect.com.br/imagesrc/17752154.jpg?w=700\"\n",
    "            }}\n",
    "        ]\n",
    "    }],\n",
    "    max_tokens=1000\n",
    ")"
   ]
  },
  {
   "cell_type": "code",
   "execution_count": 20,
   "id": "3a843b71",
   "metadata": {},
   "outputs": [
    {
     "data": {
      "text/plain": [
       "'O que está escrito na imagem é:\\n\\n\"ISSO É UM PEDIDO:\\nque você seja muito feliz no seu grande dia.\\nEste vestido tem mão de obra brasileira, gera emprego e movimenta a economia local.\\nFoi um prazer fazê-lo para você.\"\\n\\nE está assinado:\\n\"Elianna Batista\\nBelo Horizonte/MG\"'"
      ]
     },
     "execution_count": 20,
     "metadata": {},
     "output_type": "execute_result"
    }
   ],
   "source": [
    "resposta.choices[0].message.content"
   ]
  }
 ],
 "metadata": {
  "kernelspec": {
   "display_name": ".venv",
   "language": "python",
   "name": "python3"
  },
  "language_info": {
   "codemirror_mode": {
    "name": "ipython",
    "version": 3
   },
   "file_extension": ".py",
   "mimetype": "text/x-python",
   "name": "python",
   "nbconvert_exporter": "python",
   "pygments_lexer": "ipython3",
   "version": "3.13.3"
  }
 },
 "nbformat": 4,
 "nbformat_minor": 5
}
